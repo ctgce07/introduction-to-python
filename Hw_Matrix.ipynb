{
 "cells": [
  {
   "cell_type": "code",
   "execution_count": 68,
   "metadata": {},
   "outputs": [
    {
     "name": "stdout",
     "output_type": "stream",
     "text": [
      "Enter the number of rows:2\n",
      "Enter the number of columns:2\n",
      "Enter a prime number between 1 and 100: 7\n",
      "7  is a prime number!\n",
      "Enter a prime number between 1 and 100: 11\n",
      "11  is a prime number!\n",
      "Enter a prime number between 1 and 100: 13\n",
      "13  is a prime number!\n",
      "Enter a prime number between 1 and 100: 17\n",
      "17  is a prime number!\n",
      "Matrix=  7 Matrix=  11 \n",
      "Matrix=  13 Matrix=  17 \n"
     ]
    }
   ],
   "source": [
    "#Asal olmayan sayıları da matrise ekliyor. \n",
    "#Silmeyi denedim (pop,del,remove) ama girdiği değeri hafızada tuttuğu için \"index out of range atıyor\"\n",
    "R = int(input(\"Enter the number of rows:\")) \n",
    "C = int(input(\"Enter the number of columns:\"))\n",
    "number=2\n",
    "# Initialize matrix \n",
    "matrix = []\n",
    "for i in range(R):\n",
    "    a=[]\n",
    "    for j in range(C):\n",
    "        number=int(input(\"Enter a prime number between 1 and 100: \"))\n",
    "        a.append(number)\n",
    "        if number>1:\n",
    "            for k in range(2,number):\n",
    "                if (number%k)==0:\n",
    "                    print(number, \" is not a prime number!\")\n",
    "                    break\n",
    "            else:\n",
    "                print(number, \" is a prime number!\")\n",
    "    matrix.append(a)\n",
    "# For printing the matrix\n",
    "for i in range(R): \n",
    "    for j in range(C):\n",
    "        print(matrix[i][j], end = \" \") \n",
    "    print() "
   ]
  },
  {
   "cell_type": "code",
   "execution_count": null,
   "metadata": {},
   "outputs": [],
   "source": []
  }
 ],
 "metadata": {
  "kernelspec": {
   "display_name": "Python 3",
   "language": "python",
   "name": "python3"
  },
  "language_info": {
   "codemirror_mode": {
    "name": "ipython",
    "version": 3
   },
   "file_extension": ".py",
   "mimetype": "text/x-python",
   "name": "python",
   "nbconvert_exporter": "python",
   "pygments_lexer": "ipython3",
   "version": "3.8.5"
  }
 },
 "nbformat": 4,
 "nbformat_minor": 4
}
